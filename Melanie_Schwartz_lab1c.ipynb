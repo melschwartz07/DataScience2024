{
 "cells": [
  {
   "cell_type": "code",
   "execution_count": 15,
   "metadata": {
    "ExecuteTime": {
     "end_time": "2024-01-21T21:55:32.831409Z",
     "start_time": "2024-01-21T21:55:32.821686Z"
    }
   },
   "outputs": [],
   "source": [
    "# Melanie Schwartz\n",
    "# sno122"
   ]
  },
  {
   "cell_type": "markdown",
   "metadata": {},
   "source": [
    "## Lab 1C\n",
    "\n",
    "<em>Lab 1 consist of three exercises. This is the third of three exercises in Lab 1, which focuses on basic loops and conditionals, functions and passing objects as parameters, dictionaries, and bar chart visualization. </em>\n",
    "\n",
    "This exercise is to simulate 200000 rounds of a dice version of the children's card game War. The purpose of this simulation is to determine which player has an advantage of based on these rules below. \n",
    "\n",
    "**Rules**\n",
    "\n",
    "There are two players: PLAYER and BANKER. These are just names for the players. Each player has a regular six-sided die. In one round, each player will roll their die and attempt to get the highest value. The rules are:\n",
    "\n",
    "- If either player rolls a six, the game stops. The player with the higher die value wins. If both dice values are the same, then it is a tie. \n",
    "- If neither player has a six in the initial roll, then a player may re-roll under these conditions:\n",
    "    - If the BANKER initially rolled a 3 or below, the BANKER will re-roll their die. \n",
    "    - If the PLAYER initially rolled a 2 or below, the PLAYER will re-roll their die.\n",
    "    - After this reroll, the game stops. The player with the higher die value wins. If both dice values are the same, then it is a tie. \n",
    "\n",
    "**Tasks**\n",
    "\n",
    "1. The starter code has been created for you. You must use it with the two functions you will write, especially the ```outcomes``` dictionary variable declared for you. \n",
    "2. Complete the ```simulateGames``` function. Simulate the total number of rounds with the rules. Determine the outcome and increase the count on the ```outcomes``` dictionary. Use the ```rollDie``` function included for you for this task.\n",
    "3. Complete the ```visualizeResults``` function. Use the ```seaborn``` ```barplot()``` to visualize the outcomes. \n",
    "4. Function comments have been added for you.\n",
    "5. Answer the questions below. "
   ]
  },
  {
   "cell_type": "code",
   "execution_count": 16,
   "metadata": {
    "ExecuteTime": {
     "end_time": "2024-01-21T21:55:34.421099Z",
     "start_time": "2024-01-21T21:55:34.413560Z"
    }
   },
   "outputs": [],
   "source": [
    "import numpy as np\n",
    "import matplotlib.pyplot as plt\n",
    "import seaborn as sns\n",
    "import random\n",
    "import math\n",
    "\n",
    "def rollDie( m ):\n",
    "    \"\"\"\n",
    "    This function creates a random number between 1 and m inclusive and returns it.\n",
    "\n",
    "    Parameters\n",
    "    ----------\n",
    "    m : int\n",
    "        Upper bound of random number\n",
    "\n",
    "    Returns\n",
    "    -------\n",
    "    int\n",
    "        A random number between 1 and m inclusive\n",
    "    \"\"\"\n",
    "    die = random.randrange( 1, m + 1 ) \n",
    "    return die\n",
    "\n",
    "def simulateGames( n, wins ):   \n",
    "    \"\"\"\n",
    "    This function simulateGame simulates several rounds of the game. See the rules above for how each game\n",
    "    round is played.\n",
    "    \n",
    "    Parameters\n",
    "    ----------\n",
    "    n : int\n",
    "        The number of games\n",
    "\n",
    "    wins : dictionary\n",
    "        A dictionary with keys 'player', 'banker', 'tie'. All the values should be zero.\n",
    "        \n",
    "    Returns\n",
    "    -------\n",
    "    None\n",
    "    \"\"\"\n",
    "    for _ in range(n):\n",
    "        playerRoll = rollDie(6)\n",
    "        bankerRoll = rollDie(6)\n",
    "\n",
    "        # Check for initial roll of six\n",
    "        if playerRoll == 6 or bankerRoll == 6:\n",
    "            if playerRoll > bankerRoll:\n",
    "                wins['player'] += 1\n",
    "            elif bankerRoll > playerRoll:\n",
    "                wins['banker'] += 1\n",
    "            else:\n",
    "                wins['tie'] += 1\n",
    "        else:\n",
    "            # Reroll \n",
    "            if playerRoll <= 2:\n",
    "                playerRoll = rollDie(6)\n",
    "            if bankerRoll <= 3:\n",
    "                bankerRoll = rollDie(6)\n",
    "            \n",
    "            # Determine winner after reroll\n",
    "            if playerRoll > bankerRoll:\n",
    "                wins['player'] += 1\n",
    "            elif bankerRoll > playerRoll:\n",
    "                wins['banker'] += 1\n",
    "            else:\n",
    "                wins['tie'] += 1\n",
    "    \n",
    "def visualizeResults( numgames, wins ):  \n",
    "    \"\"\"\n",
    "    This function creates a bar plot of frequencies for each outcome using the seaborn package. \n",
    "    It will show the frequency of outcomes for the PLAYER, BANKER, and TIE out of 100%. Recall\n",
    "    that wins dictionary parameter has a total count of outcomes and that you will need\n",
    "    to find the percentage of occurrences. \n",
    "    \n",
    "    Parameters\n",
    "    ----------\n",
    "    n : int\n",
    "        The number of games\n",
    "\n",
    "    wins : dictionary\n",
    "        A dictionary with keys 'player', 'banker', 'tie' with the total number of outcomes \n",
    "        'Player Wins', 'Banker Wins', and 'Ties'\n",
    "        \n",
    "    Returns\n",
    "    -------\n",
    "    None\n",
    "    \"\"\"\n",
    "    percentages = {key: (value / numgames) * 100 for key, value in wins.items()}\n",
    "    labels = list(percentages.keys())\n",
    "    values = list(percentages.values())\n",
    "\n",
    "    sns.barplot(x=labels, y=values)\n",
    "    plt.title(\"Game Outcomes by Percentage\")\n",
    "    plt.ylabel(\"Percentage (%)\")\n",
    "    plt.xlabel(\"Outcome\")\n",
    "    plt.show()\n",
    "  "
   ]
  },
  {
   "cell_type": "code",
   "execution_count": 17,
   "metadata": {
    "ExecuteTime": {
     "end_time": "2024-01-21T21:55:35.644971Z",
     "start_time": "2024-01-21T21:55:35.359997Z"
    }
   },
   "outputs": [
    {
     "data": {
      "text/plain": "<Figure size 640x480 with 1 Axes>",
      "image/png": "[encoded data removed]"
     },
     "metadata": {},
     "output_type": "display_data"
    }
   ],
   "source": [
    "# Sample driver code\n",
    "games = 200000 # Simulate 200000 games\n",
    "outcomes = { 'player': 0, 'banker': 0, 'tie': 0 } # Dictionary to keep track of outcomes\n",
    "simulateGames( games, outcomes ) # Call function to simulate the games\n",
    "visualizeResults( games, outcomes ) # Call function to show bar chart"
   ]
  },
  {
   "cell_type": "markdown",
   "metadata": {},
   "source": [
    "### Questions\n",
    "\n",
    "Answer the following questions about your program:\n",
    "\n",
    "1. Under these rules, which outcome has the best chances of occurring? Why do you think that is? You do not have to conduct any type of probability analysis, just give your best explanation.\n",
    "\n",
    "2. What happens if you change the condition in which the PLAYER gets to re-roll? Right now, the PLAYER re-rolls if they got a 2 or below. Are their chances better or worse at winning if the threshold was lowered or raised? (You can modify your program to answer this question, but be sure to restore it back to the original requirements before submission). "
   ]
  },
  {
   "cell_type": "markdown",
   "metadata": {},
   "source": [
    "### Answers\n",
    "\n",
    "1. While the outcome of each game depends on probability, the rules of rerolling provide an advantage to the Banker. This advantage comes from the higher probability of rerolling and more of a chance to improve their initial roll. \n",
    "\n",
    "2. The chances of winning do increase/decrease for the player depending on the threshold for rerolling. \n",
    "- If the threshold for the PLAYER to reroll is lowered, their chances of winning decrease. This is because they have fewer opportunities to improve a poor initial roll. EX. if the PLAYER initially rolls a 2, under the current rules, they get a chance to re-roll, but with a lower threshold, they would have to stick with the 2.\n",
    "- Alternatively, if the threshold is raised, the PLAYER's chances of winning increase. This change allows the PLAYER more opportunities to re-roll and potentially achieve a higher score, especially when their initial roll is low."
   ]
  },
  {
   "cell_type": "code",
   "outputs": [],
   "source": [],
   "metadata": {
    "collapsed": false
   }
  }
 ],
 "metadata": {
  "celltoolbar": "Create Assignment",
  "kernelspec": {
   "display_name": "Python 3",
   "language": "python",
   "name": "python3"
  },
  "language_info": {
   "codemirror_mode": {
    "name": "ipython",
    "version": 3
   },
   "file_extension": ".py",
   "mimetype": "text/x-python",
   "name": "python",
   "nbconvert_exporter": "python",
   "pygments_lexer": "ipython3",
   "version": "3.7.6"
  }
 },
 "nbformat": 4,
 "nbformat_minor": 4
}
