{
 "cells": [
  {
   "cell_type": "code",
   "execution_count": 4,
   "metadata": {
    "ExecuteTime": {
     "end_time": "2024-01-21T21:04:14.751137Z",
     "start_time": "2024-01-21T21:04:14.739247Z"
    }
   },
   "outputs": [],
   "source": [
    "# Melanie Schwartz\n",
    "# sno122"
   ]
  },
  {
   "cell_type": "markdown",
   "metadata": {},
   "source": [
    "## Lab 1B - Standard Deviation\n",
    "\n",
    "<em>Lab 1 consist of three exercises. This is the second of three exercises in Lab 1, which is on lists, functions, and math functions.</em>\n",
    "\n",
    "This exercise will complete the code that will <strong>manually calculate</strong> the average and sample standard deviation within a 2D list. \n",
    "\n",
    "**Tasks**\n",
    "\n",
    "For this exercise, you must use the variable names listed in the tasks below:\n",
    "\n",
    "\n",
    "1. Two lists have been declared for you. ```values``` is a 2D list of integer values. You can change the numbers in the ```values```, but the solution provided below is for the default numbers provided in the notebook template. ```results``` is a 2D list consisting of the average and sample standard deviation for each row in the ```values``` list. For example, the first row in  ```results``` will have the average and sample standard deviation for the first row in ```values```. To start,  ```results``` is an empty list.\n",
    "\n",
    "2. ```getAverage``` is a function that takes in a list of values as its parameter ```mylist```. ```mylist``` is intended to be a row within a 2D list of integers for this program. The function will compute the average and return it. Most of this function has been completed for you.\n",
    "\n",
    "3. Complete the ```getStandardDeviation``` function. It takes in a list of values as its parameter ```mylist```. The function will need to call ```getAverage```. The function will compute the standard deviation and return it. If the length of the list is less than 2, return a -999 in it. The formula for the sample standard deviation is:\n",
    "\n",
    "$$ \n",
    "\\sqrt{ \\frac{\\sum_{i=1}^{N} ( x_{i} - \\bar{x} )^2}{N-1} }\n",
    "$$\n",
    "\n",
    "4. Complete the ```getResults``` function. It takes in a 2D list of integers  ```data_list``` and an empty list  ```stat_results``` as its parameters. The function will go through each sub-list in ```data_list``` and get the average and the standard deviation and append it to the ```stat_results``` list. ```stat_results``` will be a 2D list with each sub-list including two elements: average and standard deviation for the corresponding sub-list in ```data_list```. See below for an example.\n",
    "\n",
    "5. Function comments have been added for you."
   ]
  },
  {
   "cell_type": "code",
   "execution_count": 21,
   "metadata": {
    "ExecuteTime": {
     "end_time": "2024-01-21T21:30:23.270883Z",
     "start_time": "2024-01-21T21:30:23.267227Z"
    }
   },
   "outputs": [],
   "source": [
    "import math\n",
    "\n",
    "def getAverage( mylist ):\n",
    "    \"\"\"\n",
    "    This function computes the average of a list of numbers.\n",
    "\n",
    "    Parameters\n",
    "    ----------\n",
    "    mylist : list of int\n",
    "        One dimensional list of integers you will find the average of\n",
    "\n",
    "    Returns\n",
    "    -------\n",
    "    float\n",
    "        The average of the integers in the list\n",
    "    \"\"\"\n",
    "    # Get the average by adding the total of mylist and dividing by length of mylist\n",
    "    if len(mylist) == 0:\n",
    "        return 0\n",
    "    return sum(mylist) / len(mylist)\n",
    "\n",
    "def getStandardDeviation( mylist, average ):\n",
    "    \"\"\"\n",
    "    This function computes the standard deviation in a list of numbers. It is assumed\n",
    "    that you will have already called the getAverage function prior to calling this \n",
    "    function.\n",
    "    \n",
    "    Parameters\n",
    "    ----------\n",
    "    mylist : list of int\n",
    "        One dimensional list of integers you will find the standard deviation of\n",
    "        \n",
    "    average : float\n",
    "        Average of the list of integers\n",
    "\n",
    "    Returns\n",
    "    -------\n",
    "    float\n",
    "        The standard deviation of the integers in the list.\n",
    "    \"\"\"\n",
    "    # n = length of mylist, n must be greater than 1 in order to perform calculation of deviation.\n",
    "    # returns the sq root of deviation value to be passed in getResults() \n",
    "    n = len(mylist)\n",
    "    if n < 2:\n",
    "        return -999\n",
    "    deviation = sum((x - average) ** 2 for x in mylist) / (n - 1)\n",
    "    return math.sqrt(deviation)\n",
    "\n",
    "def getResults( data_list, stat_results ):\n",
    "    \"\"\"\n",
    "    This function creates a two-dimensional list stored in the parameter\n",
    "    stat_results. Each sublist will contain two entries: the average and the\n",
    "    standard deviation for each corresponding sub-list in data_list. \n",
    "    \n",
    "    Parameters\n",
    "    ----------\n",
    "    data_list : list of int\n",
    "        Two dimensional list of integers you will find the average and standard\n",
    "        deviation of\n",
    "        \n",
    "    stat_results : list of float\n",
    "        Two dimensional list of floats which include averages and standard\n",
    "        deviations\n",
    "\n",
    "    Returns\n",
    "    -------\n",
    "    None\n",
    "    \"\"\"\n",
    "    # By performing the above functions, getResults() will produce a 2D list\n",
    "    for sublist in data_list:\n",
    "        average = getAverage(sublist)\n",
    "        std_dev = getStandardDeviation(sublist, average) \n",
    "        stat_results.append([average, std_dev])"
   ]
  },
  {
   "cell_type": "code",
   "execution_count": 22,
   "metadata": {
    "ExecuteTime": {
     "end_time": "2024-01-21T21:30:25.162129Z",
     "start_time": "2024-01-21T21:30:25.156958Z"
    }
   },
   "outputs": [
    {
     "name": "stdout",
     "output_type": "stream",
     "text": [
      "[[5.75, 1.5], [7.0, 5.0], [3.0, 0.0]]\n"
     ]
    }
   ],
   "source": [
    "# Sample test code \n",
    "values = [ [ 5, 7, 4, 7 ], [ 12, 2, 7 ], [ 3, 3, 3, 3 ] ]\n",
    "results = [] # This list must start out as an empty list\n",
    "getResults( values, results )   \n",
    "print( results )\n",
    "\n",
    "# With the original values list [ [ 5, 7, 4, 7 ], [ 12, 2, 7 ], [ 3, 3, 3, 3 ] ]\n",
    "# You should get [[5.75, 1.5], [7.0, 5.0], [3.0, 0.0]] as the result"
   ]
  },
  {
   "cell_type": "code",
   "outputs": [],
   "source": [],
   "metadata": {
    "collapsed": false
   }
  }
 ],
 "metadata": {
  "celltoolbar": "Create Assignment",
  "kernelspec": {
   "display_name": "Python 3",
   "language": "python",
   "name": "python3"
  },
  "language_info": {
   "codemirror_mode": {
    "name": "ipython",
    "version": 3
   },
   "file_extension": ".py",
   "mimetype": "text/x-python",
   "name": "python",
   "nbconvert_exporter": "python",
   "pygments_lexer": "ipython3",
   "version": "3.7.6"
  }
 },
 "nbformat": 4,
 "nbformat_minor": 4
}
