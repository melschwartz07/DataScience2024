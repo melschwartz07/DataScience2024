{
 "cells": [
  {
   "cell_type": "code",
   "execution_count": 8,
   "metadata": {
    "ExecuteTime": {
     "end_time": "2024-01-30T00:42:39.256755Z",
     "start_time": "2024-01-30T00:42:39.246047Z"
    }
   },
   "outputs": [],
   "source": [
    "# Melanie Schwartz\n",
    "# sno122"
   ]
  },
  {
   "cell_type": "markdown",
   "metadata": {},
   "source": [
    "## Lab 3A\n",
    "\n",
    "<em>Lab 3 consists of an exercise on string processing with an emphasis in regular expressions. </em>\n",
    "\n",
    "In this lab, you will write a function that convert any imperial measurements within a sentence to metric. For example, if the original string said ```'This pencil was 2 inches long```, then the function will return ```'This pencil was 5 centimeters long'```. \n",
    "\n",
    "\n",
    "\n",
    "### Tasks\n",
    "\n",
    "1. Write a function ```convertString``` that will convert imperial measurements within a sentence to metric. It takes in one parameter ```sentence``` which is a descriptive sentence with an imperial measurement. It will return the same sentence but with the imperial measurement replaced with the metric equivalent. Use the methods from the RegEx (regular expression) module to modify the string.\n",
    "    - Tip: ```re.compile(r'(\\d+\\.\\d+|\\d+) foot?')``` represents any number in front of \"foot\". Search for that pattern and replace it.\n",
    "    - TIp2: When you have a ```matchobject = re.search(r'(\\d+\\.\\d+|\\d+) inch(?:es)?', sentence)``` you can retrieve the number with ```matchobject.group(1))```\n",
    "    - Convert inches to centimeters, feet and yards to meters, miles to kilometers, and °F to °C (Fahrenheit to Celsius).\n",
    "    - The function needs to also check for singular inputs like \"foot\" and \"inch\" and convert them to the metric units. The metric units can all be plural (meters, centimeters,...)\n",
    "    - Make sure the function can handle multiple values with different conversion factors in one sentence. \n",
    "    - Round the output value to the same number of significant figures which are originally used.\n",
    "   \n",
    "   \n",
    "2. Write a function which converts Fahreneht to Clesius. Use that function within the ```convertString``` function.\n",
    "\n",
    "3. Write a functon that produce a table with the converted units. (just the units without the values)\n",
    "\n",
    "4. Add function comments.\n",
    "\n",
    "5. Run your functions to test it and leave the outputs in your submitted notebook. Use the test cases provided below."
   ]
  },
  {
   "cell_type": "code",
   "execution_count": 12,
   "metadata": {
    "ExecuteTime": {
     "end_time": "2024-02-03T01:24:52.098777Z",
     "start_time": "2024-02-03T01:24:52.092205Z"
    }
   },
   "outputs": [],
   "source": [
    "# Use these conversions:\n",
    "#  1 inch = 2.54 centimeters\n",
    "#  1 foot = 0.3048 meters\n",
    "#  1 yard = 0.9144 meters\n",
    "#  1 mile = 1.60934 kilometers\n",
    "#  Convert Fahrenheit F to Celsius C = (F − 32) × 5/9\n",
    "\n",
    "import re\n",
    "\n",
    "def convertString( sentence ):\n",
    "    # match imperial units for converted outputs\n",
    "    pattern = r'(\\d+\\.\\d+|\\d+)\\s*(inch(?:es)?|foot(?:s)?|yard(?:s)?|mile(?:s)?|°F)'\n",
    "\n",
    "    # Replace imperial units with metric \n",
    "    converted_sentence = re.sub(pattern, convert_units, sentence, flags=re.IGNORECASE)\n",
    "\n",
    "    return converted_sentence\n",
    "\n",
    "# Conversions\n",
    "conversion_factors = {\n",
    "    'inch': 2.54,\n",
    "    'foot': 0.3048,\n",
    "    'yard': 0.9144,\n",
    "    'mile': 1.60934\n",
    "}\n",
    "\n",
    "# Convert Fahrenheit to Celsius\n",
    "def fahrenheit_to_celsius(fahrenheit):\n",
    "    return round((fahrenheit - 32) * 5/9, 2)\n",
    "\n",
    "# Replaces imperial units with metric ones (F to C)\n",
    "def convert_units(match):\n",
    "    value, unit = match.groups()\n",
    "    unit = unit.lower()  # Convert units to lowercase \n",
    "    if unit in conversion_factors:\n",
    "        converted_value = round(float(value) * conversion_factors[unit], 2)\n",
    "        return f'{converted_value} {unit}s'  # Pluralize \n",
    "    elif unit == '°f':\n",
    "        converted_value = fahrenheit_to_celsius(float(value))\n",
    "        return f'{converted_value} °C'\n",
    "    else:\n",
    "        return match.group()  # return original string"
   ]
  },
  {
   "cell_type": "code",
   "execution_count": 13,
   "metadata": {
    "ExecuteTime": {
     "end_time": "2024-02-03T01:24:53.454093Z",
     "start_time": "2024-02-03T01:24:53.447477Z"
    }
   },
   "outputs": [
    {
     "name": "stdout",
     "output_type": "stream",
     "text": [
      "This pencil was 2.8 inches long, but the tape measure is 25 yards.\n",
      "In the US the Covid rules were to keep a distance of 6 feet. In Europe it was 1.5 meters.\n",
      "I walked 26 miles and 400 feet to school each day. At a temperature of -1.11 °C that was no fun.\n"
     ]
    }
   ],
   "source": [
    "# Here are some test cases with expected output\n",
    "print( convertString( 'This pencil was 2.8 inches long, but the tape measure is 25 yards.' ) ) # This pencil was 7.1 centimeters long, but the tape measure is 22.9 meters.\n",
    "print( convertString( 'In the US the Covid rules were to keep a distance of 6 feet. In Europe it was 1.5 meters.' ) ) # In the US the Covid rules were to keep a distance of 1.8 meters. In Europe it was 1.5 meters.\n",
    "\n",
    "# Test for 2. and 3. task\n",
    "print( convertString( 'I walked 26 miles and 400 feet to school each day. At a temperature of 30 °F that was no fun.' ) )\n",
    "\n"
   ]
  },
  {
   "cell_type": "code",
   "outputs": [],
   "source": [],
   "metadata": {
    "collapsed": false
   }
  }
 ],
 "metadata": {
  "celltoolbar": "Create Assignment",
  "kernelspec": {
   "display_name": "Python 3 (ipykernel)",
   "language": "python",
   "name": "python3"
  },
  "language_info": {
   "codemirror_mode": {
    "name": "ipython",
    "version": 3
   },
   "file_extension": ".py",
   "mimetype": "text/x-python",
   "name": "python",
   "nbconvert_exporter": "python",
   "pygments_lexer": "ipython3",
   "version": "3.9.7"
  }
 },
 "nbformat": 4,
 "nbformat_minor": 4
}
