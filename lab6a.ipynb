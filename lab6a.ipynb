{
 "cells": [
  {
   "cell_type": "code",
   "execution_count": null,
   "metadata": {},
   "outputs": [],
   "source": [
    "# Firstname Lastname\n",
    "# abc123"
   ]
  },
  {
   "cell_type": "markdown",
   "metadata": {},
   "source": [
    "## Lab 6A\n",
    "\n",
    "<em>Lab 6 consists of two exercises on natural language processing through conducting a sentiment analysis on text data.</em>\n",
    "\n",
    "This exercise is to examine customer review data on airlines around the world and compare the reviews across major world airlines across Business Class, and Economy Class. We will not include First Class and Premium Economy as part of this analysis. We will compare the findings between the text-based reviews and the score-based reviews.\n",
    "\n",
    "We will be using Skytrax (http://airlineequity.com) data scraped and wrangled by @Efehan on Kaggle (https://www.kaggle.com/efehandanisman/skytrax-airline-reviews). The CSV file has been provided for you. \n",
    "\n",
    "**Tasks**\n",
    "\n",
    "1. Read ```capstone_airline_reviews3.csv``` into a Pandas dataframe. Note that this CSV file has blank lines that you will need to remove within the code. \n",
    "\n",
    "2. Analyze the data such that you can find the average polarity of all reviews for each airline's business class and economy class products. From the CSV file you, you will use the ```airline```, ```customer_review```, and ```cabin``` for this analysis. You are conducting a sentiment analysis (polarity only) on the ```customer_review``` data. Only include airlines that have more than 100 reviews for Business Class and more than 200 reviews for Economy Class and more than 500 reviews total. <em>There will only be 28 airlines that meet this requirement.</em> You should create a new ```DataFrame``` that holds the airline name, the average polarity for their business class reviews, and average polarity for their economy class reviews.\n",
    "3. Plot a scatter plot to compare the ratings with x-axis for the average polarity values for Economy Class and the y-axis for the average polarity values for Business Class. Each dot on the scatter plot represents an airline. The size of the scatter plot should be related to the number of reviews the airline has. \n",
    "4. Select one airline and create a word cloud for each of its' business class, economy class, and all its reviews. The phrase ```âœ… Trip Verified |``` appears in front of every review, remove it. Then, conduct a visual analysis of what the most common words were in customers' reviews.\n",
    "5. Answer the questions below. "
   ]
  },
  {
   "cell_type": "code",
   "execution_count": 1,
   "metadata": {},
   "outputs": [],
   "source": [
    "from textblob import TextBlob\n",
    "import pandas as pd\n",
    "import numpy as np\n",
    "import matplotlib.pyplot as plt\n",
    "from wordcloud import WordCloud\n",
    "from PIL import Image\n",
    "\n",
    "df = pd.read_csv( 'capstone_airline_reviews3.csv' )"
   ]
  },
  {
   "cell_type": "code",
   "execution_count": 3,
   "metadata": {},
   "outputs": [],
   "source": [
    "# Enter your code for the Comparison Between Economy and \n",
    "# Business Class Polarity scatter plot here"
   ]
  },
  {
   "cell_type": "code",
   "execution_count": 9,
   "metadata": {},
   "outputs": [],
   "source": [
    "# Enter your code to process the customer_review data and to \n",
    "# create your word cloud visualizations"
   ]
  },
  {
   "cell_type": "markdown",
   "metadata": {},
   "source": [
    "## Questions\n",
    "\n",
    "1. According your scatter plots, describe and explain the relationship of sentiment from customer's text-based reviews, through the the polarity measures, between an airline's economy class versus its business class products. Describe the statistical significance, if any, in sentiment between an airline's economy class versus its business class products.\n",
    "\n",
    "2. Based on all the data, what airline would you primarily fly if you had to alternate between flying business and economy class? What airline would you avoid? Why?"
   ]
  },
  {
   "cell_type": "markdown",
   "metadata": {},
   "source": [
    "## Responses\n",
    "\n",
    "Enter your responses here."
   ]
  }
 ],
 "metadata": {
  "celltoolbar": "Create Assignment",
  "kernelspec": {
   "display_name": "Python 3 (ipykernel)",
   "language": "python",
   "name": "python3"
  },
  "language_info": {
   "codemirror_mode": {
    "name": "ipython",
    "version": 3
   },
   "file_extension": ".py",
   "mimetype": "text/x-python",
   "name": "python",
   "nbconvert_exporter": "python",
   "pygments_lexer": "ipython3",
   "version": "3.9.17"
  }
 },
 "nbformat": 4,
 "nbformat_minor": 4
}
