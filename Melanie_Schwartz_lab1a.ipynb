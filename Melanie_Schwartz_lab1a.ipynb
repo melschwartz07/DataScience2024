{
 "cells": [
  {
   "cell_type": "code",
   "execution_count": 1,
   "metadata": {
    "ExecuteTime": {
     "end_time": "2024-01-17T23:47:03.459275Z",
     "start_time": "2024-01-17T23:47:03.456262Z"
    }
   },
   "outputs": [],
   "source": [
    "# Melanie Schwartz\n",
    "# sno122"
   ]
  },
  {
   "cell_type": "markdown",
   "metadata": {},
   "source": [
    "## Lab 1A - Combinations\n",
    "\n",
    "<em>Lab 1 consist of three exercises. This is the first of three exercises in Lab 1, which will cover functions and basic mathematical operations.</em>\n",
    "\n",
    "The main task is to write functions that will compute the number of combinations you can make from n items in sets of r items. \n",
    "\n",
    "$$ {n \\choose r }  = \\frac{ n! }{ r!( n - r )! } $$\n",
    "\n",
    "**Tasks**\n",
    "\n",
    "1. Write a function that computes the factorial named  ```factorial```. It takes in one parameter: ```n``` the value that you are finding the value of. Assume that the parameter value will always be a whole number. The function returns the factorial of the parameter value. If the function is called with a negative number, return -1.\n",
    "2. Write a function that computes the combination named  ```combination```. It takes in two parameters: ```n``` is the total number of items and ```n``` is the number of items in the set. Assume that both parameter values will always be a whole number. The function returns the value of n choose r. This function will call the ```factorial()``` function. If the function is called with a negative number for either of the parameters OR ```r``` is greater than n, return -1.\n",
    "3. Add function comments to both functions."
   ]
  },
  {
   "cell_type": "code",
   "execution_count": 9,
   "metadata": {
    "ExecuteTime": {
     "end_time": "2024-01-21T20:34:22.285923Z",
     "start_time": "2024-01-21T20:34:22.280777Z"
    }
   },
   "outputs": [
    {
     "name": "stdout",
     "output_type": "stream",
     "text": [
      "-1\n",
      "1\n",
      "720\n",
      "-1\n",
      "-1\n",
      "10\n"
     ]
    }
   ],
   "source": [
    "def factorial( n ):\n",
    "    # Parameter check: if n is negative, return -1\n",
    "    if n < 0:\n",
    "        return -1\n",
    "    # if values equal 0 or 1, returns 1. Since 0 and 1 are the only positive integers less than or equal to itself, the factorial of 0! = 1 && 1! = 1\n",
    "    if n == 0 or n == 1:\n",
    "        return 1\n",
    "    # when n > 1, function performs n * factorial(n-1)\n",
    "    return n * factorial(n - 1)\n",
    "\n",
    "def combination( n, r ):\n",
    "    # Check for negative inputs OR if r > n. Functions returns -1 in this case\n",
    "    if n < 0 or r < 0 or r > n:\n",
    "        return -1\n",
    "    # Otherwise calculate combination using factorial\n",
    "    return factorial(n) // (factorial(r) * factorial(n - r))\n",
    "\n",
    "# A few scenarios where each step of the functions are covered\n",
    "print(factorial(-3)) # returns -1\n",
    "print(factorial(0)) # returns 1\n",
    "print(factorial(6)) # returns 720\n",
    "print(combination(-1, -2)) # returns -1\n",
    "print(combination(1, 2)) # r > n, returns -1\n",
    "print(combination(5, 3)) # returns 10"
   ]
  }
 ],
 "metadata": {
  "celltoolbar": "Create Assignment",
  "kernelspec": {
   "display_name": "Python 3",
   "language": "python",
   "name": "python3"
  },
  "language_info": {
   "codemirror_mode": {
    "name": "ipython",
    "version": 3
   },
   "file_extension": ".py",
   "mimetype": "text/x-python",
   "name": "python",
   "nbconvert_exporter": "python",
   "pygments_lexer": "ipython3",
   "version": "3.7.6"
  }
 },
 "nbformat": 4,
 "nbformat_minor": 4
}
