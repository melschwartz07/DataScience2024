{
 "cells": [
  {
   "cell_type": "code",
   "execution_count": 1,
   "metadata": {},
   "outputs": [],
   "source": [
    "# Melanie Schwartz\n",
    "# sno122"
   ]
  },
  {
   "cell_type": "markdown",
   "metadata": {},
   "source": [
    "## Lab 2B - Programming With AI\n",
    "\n",
    "We are comparing AI generated code with human code. Let's program again a function which computes the factorial of a number (as in Lab Lab 1A).\n",
    "This is the formula:. \n",
    "\n",
    "$$ n!  = 1*2*3*4*...*(n-2)*(n-1)*n $$\n",
    "\n",
    "**Tasks**\n",
    "\n",
    "1. Get an account at ChatGTP (https://chat.openai.com/)\n",
    "2. Enter the following task into the ChatGTP chat window: Write a function that computes the factorial named factorial. It takes in one parameter: n the value that you are finding the value of. Assume that the parameter value will always be a whole number. The function returns the factorial of the parameter value. If the function is called with a negative number, return -1. \n",
    "3. Compare your own solution (lab 1A) with the one from ChatGTP and write 5 sentences about the comparancy."
   ]
  },
  {
   "cell_type": "code",
   "outputs": [
    {
     "name": "stdout",
     "output_type": "stream",
     "text": [
      "120\n",
      "1\n",
      "-1\n"
     ]
    }
   ],
   "source": [
    "# TODO: Enter the following task into the ChatGTP chat window: Write a function that computes the factorial named factorial. It takes in one parameter: n the value that you are finding the value of. Assume that the parameter value will always be a whole number. The function returns the factorial of the parameter value. If the function is called with a negative number, return -1. \n",
    "\n",
    "def factorial(n):\n",
    "    # If the input is negative, return -1\n",
    "    if n < 0:\n",
    "        return -1\n",
    "    \n",
    "    # The factorial of 0 is 1\n",
    "    if n == 0:\n",
    "        return 1\n",
    "\n",
    "    # Compute the factorial\n",
    "    result = 1\n",
    "    for i in range(1, n + 1):\n",
    "        result *= i\n",
    "\n",
    "    return result\n",
    "\n",
    "print(factorial(5))  # Should return 120, as 5! = 5 * 4 * 3 * 2 * 1\n",
    "print(factorial(0))  # Should return 1, as 0! = 1\n",
    "print(factorial(-3)) # Should return -1, as input is negative"
   ],
   "metadata": {
    "collapsed": false,
    "ExecuteTime": {
     "end_time": "2024-01-29T23:26:39.950516Z",
     "start_time": "2024-01-29T23:26:39.949049Z"
    }
   },
   "execution_count": 6
  },
  {
   "cell_type": "markdown",
   "metadata": {},
   "source": [
    "3. When comparing ChatGPT's solution vs the one submitted in Lab 1a, the approach is slightly different. ChatGPT uses an iterative approach whereas Lab 1a uses a recursive approach. The iterative approach with ChatGPT is a more memory efficient approach which is better suited when using larger numbers. The recursive approach does provide simplicity and readability, but risks stack overflow for larger inputs. Lastly, the two compare similarly when handling base cases and negative inputs, which ensures better performance. ( n==0 or n==1 and returning -1 when n is negative)."
   ]
  },
  {
   "cell_type": "code",
   "outputs": [
    {
     "name": "stdout",
     "output_type": "stream",
     "text": [
      "-1\n",
      "1\n",
      "720\n",
      "-1\n",
      "-1\n",
      "10\n"
     ]
    }
   ],
   "source": [
    "# TODO: Compare your own solution (lab 1A) with the one from ChatGPT and write 5 sentences about the comparancy.\n",
    "\n",
    "# Solution submitted in Lab 1a\n",
    "def factorial( n ):\n",
    "    # Parameter check: if n is negative, return -1\n",
    "    if n < 0:\n",
    "        return -1\n",
    "    # if values equal 0 or 1, returns 1. Since 0 and 1 are the only positive integers less than or equal to itself, the factorial of 0! = 1 && 1! = 1\n",
    "    if n == 0 or n == 1:\n",
    "        return 1\n",
    "    # when n > 1, function performs n * factorial(n-1)\n",
    "    return n * factorial(n - 1)\n",
    "\n",
    "def combination( n, r ):\n",
    "    # Check for negative inputs OR if r > n. Functions returns -1 in this case\n",
    "    if n < 0 or r < 0 or r > n:\n",
    "        return -1\n",
    "    # Otherwise calculate combination using factorial\n",
    "    return factorial(n) // (factorial(r) * factorial(n - r))\n",
    "\n",
    "# A few scenarios where each step of the functions are covered\n",
    "print(factorial(-3)) # returns -1\n",
    "print(factorial(0)) # returns 1\n",
    "print(factorial(6)) # returns 720\n",
    "print(combination(-1, -2)) # returns -1\n",
    "print(combination(1, 2)) # r > n, returns -1\n",
    "print(combination(5, 3)) # returns 10"
   ],
   "metadata": {
    "collapsed": false,
    "ExecuteTime": {
     "end_time": "2024-01-29T23:48:17.676170Z",
     "start_time": "2024-01-29T23:48:17.672540Z"
    }
   },
   "execution_count": 7
  },
  {
   "cell_type": "code",
   "outputs": [],
   "source": [],
   "metadata": {
    "collapsed": false
   }
  }
 ],
 "metadata": {
  "celltoolbar": "Create Assignment",
  "kernelspec": {
   "display_name": "Python 3 (ipykernel)",
   "language": "python",
   "name": "python3"
  },
  "language_info": {
   "codemirror_mode": {
    "name": "ipython",
    "version": 3
   },
   "file_extension": ".py",
   "mimetype": "text/x-python",
   "name": "python",
   "nbconvert_exporter": "python",
   "pygments_lexer": "ipython3",
   "version": "3.9.17"
  }
 },
 "nbformat": 4,
 "nbformat_minor": 4
}
